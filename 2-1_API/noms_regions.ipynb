{
 "cells": [
  {
   "cell_type": "code",
   "execution_count": 1,
   "metadata": {},
   "outputs": [],
   "source": [
    "import pandas as pd\n",
    "import geopandas as gpd\n",
    "df = pd.read_csv('master_lag_ml_inversed.csv')\n",
    "geo_df = pd.read_csv('master_lag_regions.csv')\n",
    "geo_df = geo_df[['Code INSEE région', 'region_nom']]\n",
    "geo_df.drop_duplicates(inplace=True)\n",
    "df = df.merge(geo_df, left_on='code_region', right_on='Code INSEE région')\n",
    "df['Nom_region'] = df['region_nom']\n",
    "df.drop(['region_nom', 'Code INSEE région'], axis=1, inplace=True)\n",
    "df.to_csv('master_lag_ml_inversed_revu-final.csv')"
   ]
  }
 ],
 "metadata": {
  "kernelspec": {
   "display_name": "Python 3",
   "language": "python",
   "name": "python3"
  },
  "language_info": {
   "codemirror_mode": {
    "name": "ipython",
    "version": 3
   },
   "file_extension": ".py",
   "mimetype": "text/x-python",
   "name": "python",
   "nbconvert_exporter": "python",
   "pygments_lexer": "ipython3",
   "version": "3.10.8 (tags/v3.10.8:aaaf517, Oct 11 2022, 16:50:30) [MSC v.1933 64 bit (AMD64)]"
  },
  "orig_nbformat": 4,
  "vscode": {
   "interpreter": {
    "hash": "e593ac106456af50ce7af38f9671c411b49d6cd90f9b885e167f0f594e09038c"
   }
  }
 },
 "nbformat": 4,
 "nbformat_minor": 2
}
